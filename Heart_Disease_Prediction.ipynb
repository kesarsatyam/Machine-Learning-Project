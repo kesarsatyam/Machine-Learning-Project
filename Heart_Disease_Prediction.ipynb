{
  "nbformat": 4,
  "nbformat_minor": 0,
  "metadata": {
    "colab": {
      "name": "Heart-Disease-Prediction.ipynb",
      "provenance": [],
      "collapsed_sections": [],
      "toc_visible": true,
      "mount_file_id": "1mlXJsyw0TdnpHU6aB3ZcYt2Pm05wVAKb",
      "authorship_tag": "ABX9TyM0PEpwaZDHeldOhu0yXBxT",
      "include_colab_link": true
    },
    "kernelspec": {
      "name": "python3",
      "display_name": "Python 3"
    }
  },
  "cells": [
    {
      "cell_type": "markdown",
      "metadata": {
        "id": "view-in-github",
        "colab_type": "text"
      },
      "source": [
        "<a href=\"https://colab.research.google.com/github/kesarsatyam/Machine-Learning-Project/blob/master/Heart_Disease_Prediction.ipynb\" target=\"_parent\"><img src=\"https://colab.research.google.com/assets/colab-badge.svg\" alt=\"Open In Colab\"/></a>"
      ]
    },
    {
      "cell_type": "markdown",
      "metadata": {
        "id": "60UUN-KZ5_HH",
        "colab_type": "text"
      },
      "source": [
        "**Heart Disease Prediction**"
      ]
    },
    {
      "cell_type": "markdown",
      "metadata": {
        "id": "48-ARNn-BSmb",
        "colab_type": "text"
      },
      "source": [
        "**Reading Dataset**"
      ]
    },
    {
      "cell_type": "code",
      "metadata": {
        "id": "hEK7iEVqqqj6",
        "colab_type": "code",
        "outputId": "7016b79f-aa12-42bf-fbac-1300e918119c",
        "colab": {
          "base_uri": "https://localhost:8080/",
          "height": 272
        }
      },
      "source": [
        "import numpy as np # importing libraries\n",
        "import pandas as pd\n",
        "import seaborn as sns # visualisation librarry\n",
        "import matplotlib.pyplot as plt\n",
        "%matplotlib inline\n",
        "\n",
        "import os\n",
        "\n",
        "from keras.layers import Dense\n",
        "\n",
        "import tensorflow as tf\n",
        "from tensorflow.python.keras.models import Sequential\n",
        "from tensorflow.python.keras.layers import Dense\n",
        "from tensorflow.python.keras.optimizers import Adam\n",
        "from sklearn.model_selection import train_test_split\n",
        "from sklearn.metrics import classification_report, accuracy_score\n",
        "\n",
        "df=pd.read_csv('heart.csv')\n",
        "print(df)\n"
      ],
      "execution_count": 48,
      "outputs": [
        {
          "output_type": "stream",
          "text": [
            "Using TensorFlow backend.\n"
          ],
          "name": "stderr"
        },
        {
          "output_type": "stream",
          "text": [
            "     age  sex  cp  trestbps  chol  fbs  ...  exang  oldpeak  slope  ca  thal  target\n",
            "0     63    1   3       145   233    1  ...      0      2.3      0   0     1       1\n",
            "1     37    1   2       130   250    0  ...      0      3.5      0   0     2       1\n",
            "2     41    0   1       130   204    0  ...      0      1.4      2   0     2       1\n",
            "3     56    1   1       120   236    0  ...      0      0.8      2   0     2       1\n",
            "4     57    0   0       120   354    0  ...      1      0.6      2   0     2       1\n",
            "..   ...  ...  ..       ...   ...  ...  ...    ...      ...    ...  ..   ...     ...\n",
            "298   57    0   0       140   241    0  ...      1      0.2      1   0     3       0\n",
            "299   45    1   3       110   264    0  ...      0      1.2      1   0     3       0\n",
            "300   68    1   0       144   193    1  ...      0      3.4      1   2     3       0\n",
            "301   57    1   0       130   131    0  ...      1      1.2      1   1     3       0\n",
            "302   57    0   1       130   236    0  ...      0      0.0      1   1     2       0\n",
            "\n",
            "[303 rows x 14 columns]\n"
          ],
          "name": "stdout"
        }
      ]
    },
    {
      "cell_type": "markdown",
      "metadata": {
        "id": "g5KtomkiBYeC",
        "colab_type": "text"
      },
      "source": [
        "**Rows and Column Information**"
      ]
    },
    {
      "cell_type": "code",
      "metadata": {
        "id": "3og_8DbCXM2y",
        "colab_type": "code",
        "outputId": "0bab1a09-de4d-4d9a-c66f-5b33bd6b4264",
        "colab": {
          "base_uri": "https://localhost:8080/",
          "height": 34
        }
      },
      "source": [
        "print(df.shape) # rows and column"
      ],
      "execution_count": 2,
      "outputs": [
        {
          "output_type": "stream",
          "text": [
            "(303, 14)\n"
          ],
          "name": "stdout"
        }
      ]
    },
    {
      "cell_type": "code",
      "metadata": {
        "id": "DVYY2_6dKt39",
        "colab_type": "code",
        "outputId": "ffb837e6-d26b-4cf3-ab6c-c6edd7a081be",
        "colab": {
          "base_uri": "https://localhost:8080/",
          "height": 68
        }
      },
      "source": [
        "# TO checking all the columns of the data\n",
        "print(df.columns) "
      ],
      "execution_count": 3,
      "outputs": [
        {
          "output_type": "stream",
          "text": [
            "Index(['age', 'sex', 'cp', 'trestbps', 'chol', 'fbs', 'restecg', 'thalach',\n",
            "       'exang', 'oldpeak', 'slope', 'ca', 'thal', 'target'],\n",
            "      dtype='object')\n"
          ],
          "name": "stdout"
        }
      ]
    },
    {
      "cell_type": "code",
      "metadata": {
        "id": "H_SUhZqmYRXg",
        "colab_type": "code",
        "outputId": "be5b6f26-2310-492c-8eb7-ca33f4a67423",
        "colab": {
          "base_uri": "https://localhost:8080/",
          "height": 272
        }
      },
      "source": [
        "# To checking data types of the data\n",
        "print(df.dtypes) "
      ],
      "execution_count": 4,
      "outputs": [
        {
          "output_type": "stream",
          "text": [
            "age           int64\n",
            "sex           int64\n",
            "cp            int64\n",
            "trestbps      int64\n",
            "chol          int64\n",
            "fbs           int64\n",
            "restecg       int64\n",
            "thalach       int64\n",
            "exang         int64\n",
            "oldpeak     float64\n",
            "slope         int64\n",
            "ca            int64\n",
            "thal          int64\n",
            "target        int64\n",
            "dtype: object\n"
          ],
          "name": "stdout"
        }
      ]
    },
    {
      "cell_type": "code",
      "metadata": {
        "id": "TWU6lxF8Y9mW",
        "colab_type": "code",
        "outputId": "e3d8c8d9-6c0b-4656-8283-e79a0f738d1e",
        "colab": {
          "base_uri": "https://localhost:8080/",
          "height": 272
        }
      },
      "source": [
        "#To checking any missing value in data\n",
        "print(df.isnull().sum()) "
      ],
      "execution_count": 5,
      "outputs": [
        {
          "output_type": "stream",
          "text": [
            "age         0\n",
            "sex         0\n",
            "cp          0\n",
            "trestbps    0\n",
            "chol        0\n",
            "fbs         0\n",
            "restecg     0\n",
            "thalach     0\n",
            "exang       0\n",
            "oldpeak     0\n",
            "slope       0\n",
            "ca          0\n",
            "thal        0\n",
            "target      0\n",
            "dtype: int64\n"
          ],
          "name": "stdout"
        }
      ]
    },
    {
      "cell_type": "markdown",
      "metadata": {
        "id": "tikLHt9zByGa",
        "colab_type": "text"
      },
      "source": [
        "We don't have any missing value in dataset"
      ]
    },
    {
      "cell_type": "markdown",
      "metadata": {
        "id": "8O-7ILxNB_wo",
        "colab_type": "text"
      },
      "source": [
        "**Conclude Statical Data**"
      ]
    },
    {
      "cell_type": "code",
      "metadata": {
        "id": "CL-q4LMCLM7Z",
        "colab_type": "code",
        "outputId": "7ae0bd0e-9032-4a6d-f0b9-1c53d1f226f6",
        "colab": {
          "base_uri": "https://localhost:8080/",
          "height": 204
        }
      },
      "source": [
        "#The describe() method is used for calculating some statistical data like percentile, mean and std \n",
        "#of the numerical values of the Series or DataFrame. \n",
        "print(df.describe()) "
      ],
      "execution_count": 6,
      "outputs": [
        {
          "output_type": "stream",
          "text": [
            "              age         sex          cp  ...          ca        thal      target\n",
            "count  303.000000  303.000000  303.000000  ...  303.000000  303.000000  303.000000\n",
            "mean    54.366337    0.683168    0.966997  ...    0.729373    2.313531    0.544554\n",
            "std      9.082101    0.466011    1.032052  ...    1.022606    0.612277    0.498835\n",
            "min     29.000000    0.000000    0.000000  ...    0.000000    0.000000    0.000000\n",
            "25%     47.500000    0.000000    0.000000  ...    0.000000    2.000000    0.000000\n",
            "50%     55.000000    1.000000    1.000000  ...    0.000000    2.000000    1.000000\n",
            "75%     61.000000    1.000000    2.000000  ...    1.000000    3.000000    1.000000\n",
            "max     77.000000    1.000000    3.000000  ...    4.000000    3.000000    1.000000\n",
            "\n",
            "[8 rows x 14 columns]\n"
          ],
          "name": "stdout"
        }
      ]
    },
    {
      "cell_type": "markdown",
      "metadata": {
        "id": "vLEnfwh9BN9Z",
        "colab_type": "text"
      },
      "source": [
        "# GENDER INFORMATION"
      ]
    },
    {
      "cell_type": "code",
      "metadata": {
        "id": "aMqDqUDETGrh",
        "colab_type": "code",
        "outputId": "d328e40e-13c6-4a78-8b35-4039154d8f3d",
        "colab": {
          "base_uri": "https://localhost:8080/",
          "height": 399
        }
      },
      "source": [
        "print(\"FEMALE: \",len(df[df['sex']==0])) #female = 0\n",
        "print(\"MALE: \",len(df[df['sex']==1])) # male =1 \n",
        "\n",
        "# we can also see in visualization\n",
        "\n",
        "plt.figure(figsize=(10,5))\n",
        "sns.countplot(df['sex'],color='lightblue')\n",
        "plt.xlabel('Age')\n",
        "plt.ylabel('Frequency')\n",
        "plt.title('Distribution of age', fontsize=10)"
      ],
      "execution_count": 7,
      "outputs": [
        {
          "output_type": "stream",
          "text": [
            "FEMALE:  96\n",
            "MALE:  207\n"
          ],
          "name": "stdout"
        },
        {
          "output_type": "execute_result",
          "data": {
            "text/plain": [
              "Text(0.5, 1.0, 'Distribution of age')"
            ]
          },
          "metadata": {
            "tags": []
          },
          "execution_count": 7
        },
        {
          "output_type": "display_data",
          "data": {
            "image/png": "[encoded data removed]",
            "text/plain": [
              "<Figure size 720x360 with 1 Axes>"
            ]
          },
          "metadata": {
            "tags": []
          }
        }
      ]
    },
    {
      "cell_type": "markdown",
      "metadata": {
        "id": "XUoo836KZQSh",
        "colab_type": "text"
      },
      "source": [
        "AS you can see in the plot females & males occurence"
      ]
    },
    {
      "cell_type": "markdown",
      "metadata": {
        "id": "ZRECt3nQbTlN",
        "colab_type": "text"
      },
      "source": [
        "**DISTRIBUTION OF AGE**"
      ]
    },
    {
      "cell_type": "code",
      "metadata": {
        "id": "NCV3pmLtbQJC",
        "colab_type": "code",
        "outputId": "16abff18-3259-435a-a0e8-8e29d37e7fcd",
        "colab": {
          "base_uri": "https://localhost:8080/",
          "height": 365
        }
      },
      "source": [
        "\n",
        "plt.figure(figsize=(10,5))\n",
        "sns.distplot(df['age'], hist=True, bins=20, color='grey')\n",
        "plt.xlabel('Age')\n",
        "plt.ylabel('Frequency')\n",
        "plt.title('Distribution of age', fontsize=10)"
      ],
      "execution_count": 8,
      "outputs": [
        {
          "output_type": "execute_result",
          "data": {
            "text/plain": [
              "Text(0.5, 1.0, 'Distribution of age')"
            ]
          },
          "metadata": {
            "tags": []
          },
          "execution_count": 8
        },
        {
          "output_type": "display_data",
          "data": {
            "image/png": "[encoded data removed]",
            "text/plain": [
              "<Figure size 720x360 with 1 Axes>"
            ]
          },
          "metadata": {
            "tags": []
          }
        }
      ]
    },
    {
      "cell_type": "markdown",
      "metadata": {
        "id": "le-fT395CO6y",
        "colab_type": "text"
      },
      "source": [
        "As you can se in the age gap between 50-60 we have more pataint"
      ]
    },
    {
      "cell_type": "markdown",
      "metadata": {
        "id": "5myY7D88fIYT",
        "colab_type": "text"
      },
      "source": [
        "**Visualization of data with one more feature for those who has chest pain (feature)**\n"
      ]
    },
    {
      "cell_type": "code",
      "metadata": {
        "id": "RcsfCfcJfIrb",
        "colab_type": "code",
        "outputId": "2683c3eb-2fd1-4725-8ac0-954c8335d8c3",
        "colab": {
          "base_uri": "https://localhost:8080/",
          "height": 296
        }
      },
      "source": [
        "sns.countplot(data=df, x='cp', hue = 'target', palette= 'Set2')\n",
        "plt.xlabel('Chest pain in people with and without heart disease')\n",
        "plt.legend( loc='upper right', labels=['Without heart disease', 'With heart disease'])"
      ],
      "execution_count": 9,
      "outputs": [
        {
          "output_type": "execute_result",
          "data": {
            "text/plain": [
              "<matplotlib.legend.Legend at 0x7fb2942522b0>"
            ]
          },
          "metadata": {
            "tags": []
          },
          "execution_count": 9
        },
        {
          "output_type": "display_data",
          "data": {
            "image/png": "[encoded data removed]",
            "text/plain": [
              "<Figure size 432x288 with 1 Axes>"
            ]
          },
          "metadata": {
            "tags": []
          }
        }
      ]
    },
    {
      "cell_type": "markdown",
      "metadata": {
        "id": "hnivMH1NdSUH",
        "colab_type": "text"
      },
      "source": [
        "**SCATTER PLOT of TAREGET data**"
      ]
    },
    {
      "cell_type": "code",
      "metadata": {
        "id": "m1qYaPd9bYrR",
        "colab_type": "code",
        "outputId": "79d9c3b5-728c-4744-9031-ef3f97c857b4",
        "colab": {
          "base_uri": "https://localhost:8080/",
          "height": 313
        }
      },
      "source": [
        "print(\"FEMALE: \",len(df[df['target']==0])) #female = 0\n",
        "print(\"MALE: \",len(df[df['target']==1])) # male =1 \n",
        "plt.scatter(x=df.age[df.target==1], y=df.thalach[(df.target==1)], c=\"green\")\n",
        "plt.scatter(x=df.age[df.target==0], y=df.thalach[(df.target==0)])\n",
        "plt.legend([\"Disease\", \"Not Disease\"])\n",
        "plt.xlabel(\"Age\")\n",
        "plt.ylabel(\"Maximum Heart Rate\")\n",
        "plt.show()"
      ],
      "execution_count": 10,
      "outputs": [
        {
          "output_type": "stream",
          "text": [
            "FEMALE:  138\n",
            "MALE:  165\n"
          ],
          "name": "stdout"
        },
        {
          "output_type": "display_data",
          "data": {
            "image/png": "[encoded data removed]",
            "text/plain": [
              "<Figure size 432x288 with 1 Axes>"
            ]
          },
          "metadata": {
            "tags": []
          }
        }
      ]
    },
    {
      "cell_type": "markdown",
      "metadata": {
        "id": "Mv8mkbIR6-jy",
        "colab_type": "text"
      },
      "source": [
        "As you can see we have more cases of Males as compare to Females"
      ]
    },
    {
      "cell_type": "markdown",
      "metadata": {
        "id": "u1BswpVgeBZ4",
        "colab_type": "text"
      },
      "source": [
        "**CORELATION IN DATA**"
      ]
    },
    {
      "cell_type": "markdown",
      "metadata": {
        "id": "0_NVNfq_7M5D",
        "colab_type": "text"
      },
      "source": [
        "Put in plain terms, correlation is a measure of how strongly one variable depends on another.\n",
        "\n",
        "Correlation is very important in the field of Psychology and Education as a measure of relationship between test scores and other measures of performance. With the help of correlation, it is possible to have a correct idea of the working capacity of a person."
      ]
    },
    {
      "cell_type": "code",
      "metadata": {
        "id": "4dGXPQPSg757",
        "colab_type": "code",
        "outputId": "b44eae1e-0ee1-48dd-fe75-e53e4f355459",
        "colab": {
          "base_uri": "https://localhost:8080/",
          "height": 535
        }
      },
      "source": [
        "plt.figure(figsize=(10,8))\n",
        "sns.heatmap(df.corr(),annot=True,cmap='YlGnBu',fmt='.2f',linewidths=2)\n",
        "#No much of correlation"
      ],
      "execution_count": 11,
      "outputs": [
        {
          "output_type": "execute_result",
          "data": {
            "text/plain": [
              "<matplotlib.axes._subplots.AxesSubplot at 0x7fb2a01f6d30>"
            ]
          },
          "metadata": {
            "tags": []
          },
          "execution_count": 11
        },
        {
          "output_type": "display_data",
          "data": {
            "image/png": "[encoded data removed]",
            "text/plain": [
              "<Figure size 720x576 with 2 Axes>"
            ]
          },
          "metadata": {
            "tags": []
          }
        }
      ]
    },
    {
      "cell_type": "code",
      "metadata": {
        "id": "R8pMxEVfhqrN",
        "colab_type": "code",
        "outputId": "2c942658-ff3d-4a85-8be7-79cf8d4dd437",
        "colab": {
          "base_uri": "https://localhost:8080/",
          "height": 296
        }
      },
      "source": [
        "sns.countplot(x='ca',data=df,hue='target',palette='husl',linewidth=5)\n"
      ],
      "execution_count": 12,
      "outputs": [
        {
          "output_type": "execute_result",
          "data": {
            "text/plain": [
              "<matplotlib.axes._subplots.AxesSubplot at 0x7fb2904986d8>"
            ]
          },
          "metadata": {
            "tags": []
          },
          "execution_count": 12
        },
        {
          "output_type": "display_data",
          "data": {
            "image/png": "[encoded data removed]",
            "text/plain": [
              "<Figure size 432x288 with 1 Axes>"
            ]
          },
          "metadata": {
            "tags": []
          }
        }
      ]
    },
    {
      "cell_type": "markdown",
      "metadata": {
        "id": "zcWHvLQM8Jg6",
        "colab_type": "text"
      },
      "source": [
        "**People with 'ca' as 0 have highest chance of heart disease** "
      ]
    },
    {
      "cell_type": "markdown",
      "metadata": {
        "id": "HK9fkGpuirnA",
        "colab_type": "text"
      },
      "source": [
        " Plotting the Rest Blood Pressure against age and comparison between sex"
      ]
    },
    {
      "cell_type": "code",
      "metadata": {
        "id": "aiKAXWCeisAK",
        "colab_type": "code",
        "outputId": "616d2747-c78b-4687-c78c-150e9e85af74",
        "colab": {
          "base_uri": "https://localhost:8080/",
          "height": 386
        }
      },
      "source": [
        "sns.lmplot(x='age', y='trestbps', data=df, hue='sex', palette='muted')\n",
        "plt.show()\n",
        "print('Correlation Coefficient:{}'.format(np.corrcoef(df.age, df.trestbps)[0,1]))"
      ],
      "execution_count": 13,
      "outputs": [
        {
          "output_type": "display_data",
          "data": {
            "image/png": "[encoded data removed]",
            "text/plain": [
              "<Figure size 402.375x360 with 1 Axes>"
            ]
          },
          "metadata": {
            "tags": []
          }
        },
        {
          "output_type": "stream",
          "text": [
            "Correlation Coefficient:0.2793509065612883\n"
          ],
          "name": "stdout"
        }
      ]
    },
    {
      "cell_type": "markdown",
      "metadata": {
        "id": "4xs92nVYpM-k",
        "colab_type": "text"
      },
      "source": [
        "There is a positive correlation between age and rest blood pressure. The Females tend to have slightly higher chance of high blood pressure than males post the age of 50"
      ]
    },
    {
      "cell_type": "markdown",
      "metadata": {
        "id": "QIxI19jlguEr",
        "colab_type": "text"
      },
      "source": [
        "##TRAIN MODEL"
      ]
    },
    {
      "cell_type": "code",
      "metadata": {
        "id": "-qoHO1_8ozis",
        "colab_type": "code",
        "colab": {
          "base_uri": "https://localhost:8080/",
          "height": 85
        },
        "outputId": "f477b451-4b38-403e-e1be-c91c571bea7d"
      },
      "source": [
        "# NOW lets build ML model\n",
        "#At first we take our matix of features and target variable\n",
        "\n",
        "# At this moment we have a dataframe that contains all of the heart.csv data. However we need to\n",
        "# Separate them to [X, Y]. Where our target labels are 'Y', and 'X' is our training data.\n",
        "X = df.drop(['target'],1)\n",
        "Y= df['target']\n",
        "\n",
        "# Now split to train/test with 80% training data, and 20% test data.\n",
        "X_train, X_test, Y_train, Y_test = train_test_split(X, Y, test_size=0.2, random_state=42)\n",
        "\n",
        "# Check dimensions of both sets.\n",
        "print(\"Train Features Size:\", X_train.shape)\n",
        "print(\"Test Features Size:\", X_test.shape)\n",
        "print(\"Train Labels Size:\", Y_train.shape)\n",
        "print(\"Test Labels Size:\", Y_test.shape)\n"
      ],
      "execution_count": 113,
      "outputs": [
        {
          "output_type": "stream",
          "text": [
            "Train Features Size: (242, 13)\n",
            "Test Features Size: (61, 13)\n",
            "Train Labels Size: (242,)\n",
            "Test Labels Size: (61,)\n"
          ],
          "name": "stdout"
        }
      ]
    },
    {
      "cell_type": "markdown",
      "metadata": {
        "id": "zcpZOC2BShov",
        "colab_type": "text"
      },
      "source": [
        "The StandardScaler assumes your data is normally distributed within each feature and will scale them such that the distribution is now centred around 0, with a standard deviation of 1.\n",
        "\n",
        "The mean and standard deviation are calculated for the feature and then the feature is scaled based on:\n",
        "\n",
        "xi–mean(x)stdev(x) If data is not normally distributed, this is not the best scaler to use."
      ]
    },
    {
      "cell_type": "code",
      "metadata": {
        "id": "GyqA08ITSh60",
        "colab_type": "code",
        "colab": {}
      },
      "source": [
        "#Feature scaling\n",
        "from sklearn.preprocessing import StandardScaler\n",
        "sc_x = StandardScaler()\n",
        "x_train = sc_x.fit_transform(X_train)\n",
        "x_test = sc_x.transform(X_test)"
      ],
      "execution_count": 0,
      "outputs": []
    },
    {
      "cell_type": "markdown",
      "metadata": {
        "id": "dwRHe-3LS-Uw",
        "colab_type": "text"
      },
      "source": [
        "**Neural Network Model**\n",
        "\n",
        "Neural Network Model\n",
        "\n",
        "Lets create a function that we can call later that builds our Neural Network model, and takes in the learning rate as a parameter. The architecture of the Neural Network that we're going to implement is detailed in the below illustration.\n",
        "\n",
        "\n",
        "\n"
      ]
    },
    {
      "cell_type": "markdown",
      "metadata": {
        "id": "Q4Go3RtQXVS-",
        "colab_type": "text"
      },
      "source": [
        "![alt text](https://drive.google.com/uc?id=1UBe6dxQgjDANE87RZMtxtONNdpISTXEC)\n",
        "\n"
      ]
    },
    {
      "cell_type": "markdown",
      "metadata": {
        "id": "McBo0l3aXuv7",
        "colab_type": "text"
      },
      "source": [
        "In our model, we use Adam (Adaptive Momentum) as our optimization algorithm, and set our metrics to accuracy. Furthermore, I have used the loss function to be sparse_categorical_crossentropy because our traget labels are integers and not one hot encoded.\n",
        "\n"
      ]
    },
    {
      "cell_type": "code",
      "metadata": {
        "id": "YunztUqLXiQk",
        "colab_type": "code",
        "colab": {}
      },
      "source": [
        "# Define a Neural Network Model\n",
        "\n",
        "def NN_model(learning_rate):\n",
        "    model = Sequential()\n",
        "    model.add(Dense(32, input_dim=13, kernel_initializer='normal', activation='relu'))\n",
        "    model.add(Dense(16, kernel_initializer='normal', activation='relu'))\n",
        "    model.add(Dense(2, activation='softmax'))\n",
        "    Adam(lr=learning_rate)\n",
        "    model.compile(loss='sparse_categorical_crossentropy', optimizer='Adam', metrics=['accuracy'])\n",
        "    return model"
      ],
      "execution_count": 0,
      "outputs": []
    },
    {
      "cell_type": "markdown",
      "metadata": {
        "id": "SsseDzTPX3SM",
        "colab_type": "text"
      },
      "source": [
        "Now lets build the NN-model and start training. I chose learning_rate=0.01, epochs=100, and batch_size=16.\n",
        "\n",
        "Training the model for 100 epochs, seems to be pretty fine in order to avoid overfitting. I already performed training with 1000 epochs and around 100 epochs was the reasonable number of epochs for early stopping.\n",
        "\n",
        "Lets take a look at our model summary."
      ]
    },
    {
      "cell_type": "code",
      "metadata": {
        "id": "qMW9TRXaX0nv",
        "colab_type": "code",
        "colab": {
          "base_uri": "https://localhost:8080/",
          "height": 272
        },
        "outputId": "cff7dc0c-6a9c-47d5-9d5c-3e76ded86c7d"
      },
      "source": [
        "# Build a NN-model, and start training\n",
        "learning_rate = 0.01\n",
        "model = NN_model(learning_rate)\n",
        "print(model.summary())"
      ],
      "execution_count": 115,
      "outputs": [
        {
          "output_type": "stream",
          "text": [
            "Model: \"sequential_1\"\n",
            "_________________________________________________________________\n",
            "Layer (type)                 Output Shape              Param #   \n",
            "=================================================================\n",
            "dense_3 (Dense)              (None, 32)                448       \n",
            "_________________________________________________________________\n",
            "dense_4 (Dense)              (None, 16)                528       \n",
            "_________________________________________________________________\n",
            "dense_5 (Dense)              (None, 2)                 34        \n",
            "=================================================================\n",
            "Total params: 1,010\n",
            "Trainable params: 1,010\n",
            "Non-trainable params: 0\n",
            "_________________________________________________________________\n",
            "None\n"
          ],
          "name": "stdout"
        }
      ]
    },
    {
      "cell_type": "markdown",
      "metadata": {
        "id": "dqxs-RGhYmy0",
        "colab_type": "text"
      },
      "source": [
        "Now we train our model"
      ]
    },
    {
      "cell_type": "markdown",
      "metadata": {
        "id": "ZrEKxy3qwJSs",
        "colab_type": "text"
      },
      "source": [
        "history = model.fit(X_train, Y_train, validation_data=(X_test, Y_test), epochs=50, batch_size=16, verbose=2)"
      ]
    },
    {
      "cell_type": "code",
      "metadata": {
        "id": "wpzh2d6WwOlv",
        "colab_type": "code",
        "colab": {
          "base_uri": "https://localhost:8080/",
          "height": 1000
        },
        "outputId": "1622d611-6c9c-496f-d8c1-56693c3b4945"
      },
      "source": [
        "history = model.fit(X_train, Y_train, validation_data=(X_test, Y_test), epochs=110, batch_size=16, verbose=2)"
      ],
      "execution_count": 117,
      "outputs": [
        {
          "output_type": "stream",
          "text": [
            "Epoch 1/110\n",
            "16/16 - 0s - loss: 0.4266 - accuracy: 0.8099 - val_loss: 0.3895 - val_accuracy: 0.8033\n",
            "Epoch 2/110\n",
            "16/16 - 0s - loss: 0.3736 - accuracy: 0.8140 - val_loss: 0.3750 - val_accuracy: 0.8525\n",
            "Epoch 3/110\n",
            "16/16 - 0s - loss: 0.4039 - accuracy: 0.8306 - val_loss: 0.3290 - val_accuracy: 0.8852\n",
            "Epoch 4/110\n",
            "16/16 - 0s - loss: 0.4325 - accuracy: 0.7893 - val_loss: 0.3290 - val_accuracy: 0.8852\n",
            "Epoch 5/110\n",
            "16/16 - 0s - loss: 0.3986 - accuracy: 0.8182 - val_loss: 0.3662 - val_accuracy: 0.8361\n",
            "Epoch 6/110\n",
            "16/16 - 0s - loss: 0.3887 - accuracy: 0.8678 - val_loss: 0.3315 - val_accuracy: 0.8852\n",
            "Epoch 7/110\n",
            "16/16 - 0s - loss: 0.3663 - accuracy: 0.8512 - val_loss: 0.3408 - val_accuracy: 0.8689\n",
            "Epoch 8/110\n",
            "16/16 - 0s - loss: 0.3602 - accuracy: 0.8140 - val_loss: 0.3430 - val_accuracy: 0.8689\n",
            "Epoch 9/110\n",
            "16/16 - 0s - loss: 0.3697 - accuracy: 0.8678 - val_loss: 0.3900 - val_accuracy: 0.8361\n",
            "Epoch 10/110\n",
            "16/16 - 0s - loss: 0.4012 - accuracy: 0.8140 - val_loss: 0.3337 - val_accuracy: 0.8689\n",
            "Epoch 11/110\n",
            "16/16 - 0s - loss: 0.4115 - accuracy: 0.7851 - val_loss: 0.3282 - val_accuracy: 0.8852\n",
            "Epoch 12/110\n",
            "16/16 - 0s - loss: 0.3722 - accuracy: 0.8058 - val_loss: 0.4688 - val_accuracy: 0.7377\n",
            "Epoch 13/110\n",
            "16/16 - 0s - loss: 0.4881 - accuracy: 0.7769 - val_loss: 0.3796 - val_accuracy: 0.8361\n",
            "Epoch 14/110\n",
            "16/16 - 0s - loss: 0.3886 - accuracy: 0.8512 - val_loss: 0.4321 - val_accuracy: 0.7705\n",
            "Epoch 15/110\n",
            "16/16 - 0s - loss: 0.3909 - accuracy: 0.8264 - val_loss: 0.3359 - val_accuracy: 0.8852\n",
            "Epoch 16/110\n",
            "16/16 - 0s - loss: 0.3610 - accuracy: 0.8554 - val_loss: 0.3369 - val_accuracy: 0.8852\n",
            "Epoch 17/110\n",
            "16/16 - 0s - loss: 0.3602 - accuracy: 0.8471 - val_loss: 0.4451 - val_accuracy: 0.7869\n",
            "Epoch 18/110\n",
            "16/16 - 0s - loss: 0.3887 - accuracy: 0.8058 - val_loss: 0.5806 - val_accuracy: 0.7049\n",
            "Epoch 19/110\n",
            "16/16 - 0s - loss: 0.5401 - accuracy: 0.7355 - val_loss: 0.5322 - val_accuracy: 0.7377\n",
            "Epoch 20/110\n",
            "16/16 - 0s - loss: 0.3959 - accuracy: 0.8017 - val_loss: 0.3298 - val_accuracy: 0.8852\n",
            "Epoch 21/110\n",
            "16/16 - 0s - loss: 0.3497 - accuracy: 0.8430 - val_loss: 0.3501 - val_accuracy: 0.8689\n",
            "Epoch 22/110\n",
            "16/16 - 0s - loss: 0.3696 - accuracy: 0.8306 - val_loss: 0.3960 - val_accuracy: 0.8197\n",
            "Epoch 23/110\n",
            "16/16 - 0s - loss: 0.3368 - accuracy: 0.8471 - val_loss: 0.3586 - val_accuracy: 0.8525\n",
            "Epoch 24/110\n",
            "16/16 - 0s - loss: 0.3503 - accuracy: 0.8595 - val_loss: 0.3821 - val_accuracy: 0.8197\n",
            "Epoch 25/110\n",
            "16/16 - 0s - loss: 0.3837 - accuracy: 0.8430 - val_loss: 0.3751 - val_accuracy: 0.8197\n",
            "Epoch 26/110\n",
            "16/16 - 0s - loss: 0.4181 - accuracy: 0.8182 - val_loss: 0.3414 - val_accuracy: 0.8852\n",
            "Epoch 27/110\n",
            "16/16 - 0s - loss: 0.4430 - accuracy: 0.7934 - val_loss: 0.3854 - val_accuracy: 0.8361\n",
            "Epoch 28/110\n",
            "16/16 - 0s - loss: 0.4469 - accuracy: 0.8471 - val_loss: 0.4244 - val_accuracy: 0.7705\n",
            "Epoch 29/110\n",
            "16/16 - 0s - loss: 0.4582 - accuracy: 0.7686 - val_loss: 0.3357 - val_accuracy: 0.8689\n",
            "Epoch 30/110\n",
            "16/16 - 0s - loss: 0.3748 - accuracy: 0.8223 - val_loss: 0.3288 - val_accuracy: 0.8852\n",
            "Epoch 31/110\n",
            "16/16 - 0s - loss: 0.4284 - accuracy: 0.7645 - val_loss: 0.3600 - val_accuracy: 0.8525\n",
            "Epoch 32/110\n",
            "16/16 - 0s - loss: 0.3782 - accuracy: 0.8430 - val_loss: 0.3888 - val_accuracy: 0.8197\n",
            "Epoch 33/110\n",
            "16/16 - 0s - loss: 0.3499 - accuracy: 0.8471 - val_loss: 0.3356 - val_accuracy: 0.8852\n",
            "Epoch 34/110\n",
            "16/16 - 0s - loss: 0.3680 - accuracy: 0.8430 - val_loss: 0.3366 - val_accuracy: 0.8852\n",
            "Epoch 35/110\n",
            "16/16 - 0s - loss: 0.3834 - accuracy: 0.7893 - val_loss: 0.3322 - val_accuracy: 0.8852\n",
            "Epoch 36/110\n",
            "16/16 - 0s - loss: 0.3954 - accuracy: 0.7975 - val_loss: 0.3418 - val_accuracy: 0.8689\n",
            "Epoch 37/110\n",
            "16/16 - 0s - loss: 0.3770 - accuracy: 0.8306 - val_loss: 0.3420 - val_accuracy: 0.8852\n",
            "Epoch 38/110\n",
            "16/16 - 0s - loss: 0.3744 - accuracy: 0.8347 - val_loss: 0.3418 - val_accuracy: 0.8689\n",
            "Epoch 39/110\n",
            "16/16 - 0s - loss: 0.4009 - accuracy: 0.8140 - val_loss: 0.4020 - val_accuracy: 0.8361\n",
            "Epoch 40/110\n",
            "16/16 - 0s - loss: 0.3904 - accuracy: 0.8554 - val_loss: 0.3435 - val_accuracy: 0.8852\n",
            "Epoch 41/110\n",
            "16/16 - 0s - loss: 0.3597 - accuracy: 0.8595 - val_loss: 0.3570 - val_accuracy: 0.8689\n",
            "Epoch 42/110\n",
            "16/16 - 0s - loss: 0.3466 - accuracy: 0.8512 - val_loss: 0.3449 - val_accuracy: 0.8852\n",
            "Epoch 43/110\n",
            "16/16 - 0s - loss: 0.3833 - accuracy: 0.7975 - val_loss: 0.3405 - val_accuracy: 0.8852\n",
            "Epoch 44/110\n",
            "16/16 - 0s - loss: 0.3461 - accuracy: 0.8471 - val_loss: 0.3440 - val_accuracy: 0.8852\n",
            "Epoch 45/110\n",
            "16/16 - 0s - loss: 0.3564 - accuracy: 0.8430 - val_loss: 0.3964 - val_accuracy: 0.8361\n",
            "Epoch 46/110\n",
            "16/16 - 0s - loss: 0.3581 - accuracy: 0.8347 - val_loss: 0.5322 - val_accuracy: 0.7377\n",
            "Epoch 47/110\n",
            "16/16 - 0s - loss: 0.3627 - accuracy: 0.8223 - val_loss: 0.3427 - val_accuracy: 0.8852\n",
            "Epoch 48/110\n",
            "16/16 - 0s - loss: 0.3725 - accuracy: 0.8388 - val_loss: 0.3377 - val_accuracy: 0.8852\n",
            "Epoch 49/110\n",
            "16/16 - 0s - loss: 0.3588 - accuracy: 0.8595 - val_loss: 0.3574 - val_accuracy: 0.8525\n",
            "Epoch 50/110\n",
            "16/16 - 0s - loss: 0.3586 - accuracy: 0.8264 - val_loss: 0.3421 - val_accuracy: 0.8852\n",
            "Epoch 51/110\n",
            "16/16 - 0s - loss: 0.4485 - accuracy: 0.8264 - val_loss: 0.3521 - val_accuracy: 0.8689\n",
            "Epoch 52/110\n",
            "16/16 - 0s - loss: 0.3982 - accuracy: 0.8264 - val_loss: 0.3379 - val_accuracy: 0.8852\n",
            "Epoch 53/110\n",
            "16/16 - 0s - loss: 0.3580 - accuracy: 0.8223 - val_loss: 0.3434 - val_accuracy: 0.8689\n",
            "Epoch 54/110\n",
            "16/16 - 0s - loss: 0.3884 - accuracy: 0.8347 - val_loss: 0.3404 - val_accuracy: 0.8852\n",
            "Epoch 55/110\n",
            "16/16 - 0s - loss: 0.3795 - accuracy: 0.8512 - val_loss: 0.3432 - val_accuracy: 0.8852\n",
            "Epoch 56/110\n",
            "16/16 - 0s - loss: 0.3394 - accuracy: 0.8636 - val_loss: 0.3363 - val_accuracy: 0.8689\n",
            "Epoch 57/110\n",
            "16/16 - 0s - loss: 0.3688 - accuracy: 0.8347 - val_loss: 0.3635 - val_accuracy: 0.8361\n",
            "Epoch 58/110\n",
            "16/16 - 0s - loss: 0.4061 - accuracy: 0.8140 - val_loss: 0.3338 - val_accuracy: 0.8852\n",
            "Epoch 59/110\n",
            "16/16 - 0s - loss: 0.3710 - accuracy: 0.8264 - val_loss: 0.3489 - val_accuracy: 0.8689\n",
            "Epoch 60/110\n",
            "16/16 - 0s - loss: 0.4218 - accuracy: 0.8306 - val_loss: 0.3369 - val_accuracy: 0.8852\n",
            "Epoch 61/110\n",
            "16/16 - 0s - loss: 0.3453 - accuracy: 0.8678 - val_loss: 0.3315 - val_accuracy: 0.8852\n",
            "Epoch 62/110\n",
            "16/16 - 0s - loss: 0.3812 - accuracy: 0.8099 - val_loss: 0.3385 - val_accuracy: 0.8852\n",
            "Epoch 63/110\n",
            "16/16 - 0s - loss: 0.3736 - accuracy: 0.8223 - val_loss: 0.3381 - val_accuracy: 0.8852\n",
            "Epoch 64/110\n",
            "16/16 - 0s - loss: 0.3362 - accuracy: 0.8512 - val_loss: 0.3824 - val_accuracy: 0.8197\n",
            "Epoch 65/110\n",
            "16/16 - 0s - loss: 0.4669 - accuracy: 0.8347 - val_loss: 0.4259 - val_accuracy: 0.8197\n",
            "Epoch 66/110\n",
            "16/16 - 0s - loss: 0.6058 - accuracy: 0.7066 - val_loss: 0.3291 - val_accuracy: 0.8852\n",
            "Epoch 67/110\n",
            "16/16 - 0s - loss: 0.3791 - accuracy: 0.8182 - val_loss: 0.3313 - val_accuracy: 0.8852\n",
            "Epoch 68/110\n",
            "16/16 - 0s - loss: 0.3795 - accuracy: 0.8430 - val_loss: 0.3596 - val_accuracy: 0.8525\n",
            "Epoch 69/110\n",
            "16/16 - 0s - loss: 0.3874 - accuracy: 0.8347 - val_loss: 0.3683 - val_accuracy: 0.8361\n",
            "Epoch 70/110\n",
            "16/16 - 0s - loss: 0.3880 - accuracy: 0.8471 - val_loss: 0.3562 - val_accuracy: 0.8689\n",
            "Epoch 71/110\n",
            "16/16 - 0s - loss: 0.3828 - accuracy: 0.8347 - val_loss: 0.3696 - val_accuracy: 0.8361\n",
            "Epoch 72/110\n",
            "16/16 - 0s - loss: 0.3866 - accuracy: 0.8388 - val_loss: 0.3602 - val_accuracy: 0.8525\n",
            "Epoch 73/110\n",
            "16/16 - 0s - loss: 0.3639 - accuracy: 0.8388 - val_loss: 0.3528 - val_accuracy: 0.8689\n",
            "Epoch 74/110\n",
            "16/16 - 0s - loss: 0.3607 - accuracy: 0.8388 - val_loss: 0.3660 - val_accuracy: 0.8689\n",
            "Epoch 75/110\n",
            "16/16 - 0s - loss: 0.3423 - accuracy: 0.8430 - val_loss: 0.3578 - val_accuracy: 0.8689\n",
            "Epoch 76/110\n",
            "16/16 - 0s - loss: 0.3607 - accuracy: 0.8636 - val_loss: 0.3727 - val_accuracy: 0.8361\n",
            "Epoch 77/110\n",
            "16/16 - 0s - loss: 0.3630 - accuracy: 0.8347 - val_loss: 0.4078 - val_accuracy: 0.8197\n",
            "Epoch 78/110\n",
            "16/16 - 0s - loss: 0.3500 - accuracy: 0.8554 - val_loss: 0.3489 - val_accuracy: 0.8689\n",
            "Epoch 79/110\n",
            "16/16 - 0s - loss: 0.4177 - accuracy: 0.8471 - val_loss: 0.3538 - val_accuracy: 0.8852\n",
            "Epoch 80/110\n",
            "16/16 - 0s - loss: 0.3749 - accuracy: 0.8471 - val_loss: 0.3927 - val_accuracy: 0.8197\n",
            "Epoch 81/110\n",
            "16/16 - 0s - loss: 0.4027 - accuracy: 0.8347 - val_loss: 0.4027 - val_accuracy: 0.8361\n",
            "Epoch 82/110\n",
            "16/16 - 0s - loss: 0.3842 - accuracy: 0.8140 - val_loss: 0.3355 - val_accuracy: 0.8689\n",
            "Epoch 83/110\n",
            "16/16 - 0s - loss: 0.3892 - accuracy: 0.8306 - val_loss: 0.3639 - val_accuracy: 0.8525\n",
            "Epoch 84/110\n",
            "16/16 - 0s - loss: 0.3336 - accuracy: 0.8554 - val_loss: 0.3566 - val_accuracy: 0.8525\n",
            "Epoch 85/110\n",
            "16/16 - 0s - loss: 0.3511 - accuracy: 0.8595 - val_loss: 0.3743 - val_accuracy: 0.8361\n",
            "Epoch 86/110\n",
            "16/16 - 0s - loss: 0.4038 - accuracy: 0.8017 - val_loss: 0.3454 - val_accuracy: 0.8689\n",
            "Epoch 87/110\n",
            "16/16 - 0s - loss: 0.4012 - accuracy: 0.8347 - val_loss: 0.3785 - val_accuracy: 0.8197\n",
            "Epoch 88/110\n",
            "16/16 - 0s - loss: 0.3406 - accuracy: 0.8471 - val_loss: 0.3528 - val_accuracy: 0.8689\n",
            "Epoch 89/110\n",
            "16/16 - 0s - loss: 0.4016 - accuracy: 0.8595 - val_loss: 0.3536 - val_accuracy: 0.8525\n",
            "Epoch 90/110\n",
            "16/16 - 0s - loss: 0.3564 - accuracy: 0.8512 - val_loss: 0.3767 - val_accuracy: 0.8197\n",
            "Epoch 91/110\n",
            "16/16 - 0s - loss: 0.3937 - accuracy: 0.8306 - val_loss: 0.3749 - val_accuracy: 0.8361\n",
            "Epoch 92/110\n",
            "16/16 - 0s - loss: 0.3475 - accuracy: 0.8554 - val_loss: 0.4000 - val_accuracy: 0.8033\n",
            "Epoch 93/110\n",
            "16/16 - 0s - loss: 0.3837 - accuracy: 0.8182 - val_loss: 0.3906 - val_accuracy: 0.8197\n",
            "Epoch 94/110\n",
            "16/16 - 0s - loss: 0.3898 - accuracy: 0.8182 - val_loss: 0.3686 - val_accuracy: 0.8525\n",
            "Epoch 95/110\n",
            "16/16 - 0s - loss: 0.3817 - accuracy: 0.8306 - val_loss: 0.3710 - val_accuracy: 0.8361\n",
            "Epoch 96/110\n",
            "16/16 - 0s - loss: 0.4084 - accuracy: 0.8306 - val_loss: 0.3626 - val_accuracy: 0.8525\n",
            "Epoch 97/110\n",
            "16/16 - 0s - loss: 0.3678 - accuracy: 0.8306 - val_loss: 0.3386 - val_accuracy: 0.8852\n",
            "Epoch 98/110\n",
            "16/16 - 0s - loss: 0.3620 - accuracy: 0.8306 - val_loss: 0.3456 - val_accuracy: 0.8689\n",
            "Epoch 99/110\n",
            "16/16 - 0s - loss: 0.4591 - accuracy: 0.8182 - val_loss: 0.3401 - val_accuracy: 0.8852\n",
            "Epoch 100/110\n",
            "16/16 - 0s - loss: 0.4907 - accuracy: 0.8099 - val_loss: 0.3473 - val_accuracy: 0.8689\n",
            "Epoch 101/110\n",
            "16/16 - 0s - loss: 0.3334 - accuracy: 0.8554 - val_loss: 0.3451 - val_accuracy: 0.8689\n",
            "Epoch 102/110\n",
            "16/16 - 0s - loss: 0.3650 - accuracy: 0.8554 - val_loss: 0.3827 - val_accuracy: 0.8197\n",
            "Epoch 103/110\n",
            "16/16 - 0s - loss: 0.3957 - accuracy: 0.8595 - val_loss: 0.3365 - val_accuracy: 0.8852\n",
            "Epoch 104/110\n",
            "16/16 - 0s - loss: 0.4016 - accuracy: 0.8058 - val_loss: 0.3341 - val_accuracy: 0.8852\n",
            "Epoch 105/110\n",
            "16/16 - 0s - loss: 0.3929 - accuracy: 0.8595 - val_loss: 0.4193 - val_accuracy: 0.8197\n",
            "Epoch 106/110\n",
            "16/16 - 0s - loss: 0.3571 - accuracy: 0.8306 - val_loss: 0.3856 - val_accuracy: 0.8197\n",
            "Epoch 107/110\n",
            "16/16 - 0s - loss: 0.3544 - accuracy: 0.8430 - val_loss: 0.4078 - val_accuracy: 0.8033\n",
            "Epoch 108/110\n",
            "16/16 - 0s - loss: 0.3548 - accuracy: 0.8182 - val_loss: 0.3567 - val_accuracy: 0.8689\n",
            "Epoch 109/110\n",
            "16/16 - 0s - loss: 0.3543 - accuracy: 0.8264 - val_loss: 0.3353 - val_accuracy: 0.8852\n",
            "Epoch 110/110\n",
            "16/16 - 0s - loss: 0.3547 - accuracy: 0.8347 - val_loss: 0.3396 - val_accuracy: 0.8852\n"
          ],
          "name": "stdout"
        }
      ]
    },
    {
      "cell_type": "code",
      "metadata": {
        "id": "LXrnPv_oTWTz",
        "colab_type": "code",
        "colab": {
          "base_uri": "https://localhost:8080/",
          "height": 187
        },
        "outputId": "551b9b35-8a66-455c-d7b1-978b3391805e"
      },
      "source": [
        "#confusion matrix\n",
        "# precision(positive predictive value)\n",
        "# Precision= TP/(TP+FP)\n",
        "#recall kown as sensitivity or true positive rate \n",
        "#recall = TP/(TP+FN)\n",
        "# f1-score, it is combination of precision and recall\n",
        "# f1-score= 2 * ((precision *recall)/(precision+recall))\n",
        "\n",
        "comp_accuracies=[]\n",
        "predictions = np.argmax(model.predict(X_test),axis=1)\n",
        "model_accuracy = accuracy_score(Y_test, predictions)*100\n",
        "comp_accuracies.append(model_accuracy)\n",
        "print(\"Model Accracy:\", model_accuracy,\"%\")\n",
        "print(classification_report(Y_test, predictions))"
      ],
      "execution_count": 121,
      "outputs": [
        {
          "output_type": "stream",
          "text": [
            "Model Accracy: 88.52459016393442 %\n",
            "              precision    recall  f1-score   support\n",
            "\n",
            "           0       0.89      0.86      0.88        29\n",
            "           1       0.88      0.91      0.89        32\n",
            "\n",
            "    accuracy                           0.89        61\n",
            "   macro avg       0.89      0.88      0.88        61\n",
            "weighted avg       0.89      0.89      0.89        61\n",
            "\n"
          ],
          "name": "stdout"
        }
      ]
    },
    {
      "cell_type": "markdown",
      "metadata": {
        "id": "B2bZn9XvZUYx",
        "colab_type": "text"
      },
      "source": [
        "With a **ANN model accuracy** of around 89% and very \n",
        "\n",
        "\n",
        "\n",
        "similar  f1  score, we have a very good performing model that generalizes well to the test set."
      ]
    },
    {
      "cell_type": "markdown",
      "metadata": {
        "id": "_TCDnFDocOxl",
        "colab_type": "text"
      },
      "source": [
        "**Logistic Regression**\n",
        "\n",
        "Logistic regression is a type of regression analysis in statistics used for prediction of outcome of a categorical dependent variable from a set of predictor or independent variables. In logistic regression the dependent variable is always binary. Logistic regression is mainly used to for prediction and also calculating the probability of success."
      ]
    },
    {
      "cell_type": "code",
      "metadata": {
        "id": "gvN3MPzwPmqG",
        "colab_type": "code",
        "colab": {
          "base_uri": "https://localhost:8080/",
          "height": 190
        },
        "outputId": "4e343b7a-5e60-4f04-a967-f00ab6e5ea6d"
      },
      "source": [
        "\n",
        "import sklearn\n",
        "x_train,x_test,y_train,y_test=train_test_split(X,Y,test_size=.20,random_state=5)\n",
        "\n",
        "from sklearn.linear_model import LogisticRegression\n",
        "logreg=LogisticRegression()\n",
        "logreg.fit(x_train,y_train)\n",
        "y_pred=logreg.predict(x_test)\n",
        "\n"
      ],
      "execution_count": 147,
      "outputs": [
        {
          "output_type": "stream",
          "text": [
            "/usr/local/lib/python3.6/dist-packages/sklearn/linear_model/_logistic.py:940: ConvergenceWarning: lbfgs failed to converge (status=1):\n",
            "STOP: TOTAL NO. of ITERATIONS REACHED LIMIT.\n",
            "\n",
            "Increase the number of iterations (max_iter) or scale the data as shown in:\n",
            "    https://scikit-learn.org/stable/modules/preprocessing.html\n",
            "Please also refer to the documentation for alternative solver options:\n",
            "    https://scikit-learn.org/stable/modules/linear_model.html#logistic-regression\n",
            "  extra_warning_msg=_LOGISTIC_SOLVER_CONVERGENCE_MSG)\n"
          ],
          "name": "stderr"
        },
        {
          "output_type": "execute_result",
          "data": {
            "text/plain": [
              "0.9180327868852459"
            ]
          },
          "metadata": {
            "tags": []
          },
          "execution_count": 147
        }
      ]
    },
    {
      "cell_type": "code",
      "metadata": {
        "id": "pOrUgpZE2SS0",
        "colab_type": "code",
        "colab": {
          "base_uri": "https://localhost:8080/",
          "height": 34
        },
        "outputId": "5fe473a6-e5b9-4023-ad70-2ec0d60b481a"
      },
      "source": [
        "print(\"Logistic regression Accuracy score is:\",accuracy_score(y_test,y_pred))\n",
        "comp_accuracies.append(accuracy_score(y_test,y_pred))"
      ],
      "execution_count": 180,
      "outputs": [
        {
          "output_type": "stream",
          "text": [
            "Logistic regression Accuracy score is: 0.9180327868852459\n"
          ],
          "name": "stdout"
        }
      ]
    },
    {
      "cell_type": "markdown",
      "metadata": {
        "id": "_FWAYO1ooQk6",
        "colab_type": "text"
      },
      "source": [
        "**ACCuracy of Logistic Regression Model is 91%**"
      ]
    },
    {
      "cell_type": "code",
      "metadata": {
        "id": "CRAATbhs2s4K",
        "colab_type": "code",
        "colab": {
          "base_uri": "https://localhost:8080/",
          "height": 337
        },
        "outputId": "d3370f91-f849-4a54-f8ce-93cf0ecd6773"
      },
      "source": [
        "from sklearn.metrics import confusion_matrix\n",
        "cm=confusion_matrix(y_test,y_pred)\n",
        "conf_matrix=pd.DataFrame(data=cm,columns=['Predicted:0','Predicted:1'],index=['Actual:0','Actual:1'])\n",
        "plt.figure(figsize = (8,5))\n",
        "sns.heatmap(conf_matrix, annot=True,fmt='d',cmap=\"YlGnBu\")"
      ],
      "execution_count": 155,
      "outputs": [
        {
          "output_type": "execute_result",
          "data": {
            "text/plain": [
              "<matplotlib.axes._subplots.AxesSubplot at 0x7fb203e9ca20>"
            ]
          },
          "metadata": {
            "tags": []
          },
          "execution_count": 155
        },
        {
          "output_type": "display_data",
          "data": {
            "image/png": "[encoded data removed]",
            "text/plain": [
              "<Figure size 576x360 with 2 Axes>"
            ]
          },
          "metadata": {
            "tags": []
          }
        }
      ]
    },
    {
      "cell_type": "markdown",
      "metadata": {
        "id": "V8y8AzBn22vj",
        "colab_type": "text"
      },
      "source": [
        "The confusion matrix shows 27+29 = 56 correct predictions and 2+3= 5 incorrect ones.\n",
        "\n",
        "True Positives: 29\n",
        "\n",
        "True Negatives: 27\n",
        "\n",
        "False Positives: 3 (Type I error)\n",
        "\n",
        "False Negatives: 2 ( Type II error)"
      ]
    },
    {
      "cell_type": "markdown",
      "metadata": {
        "id": "Ednm5ohHogq6",
        "colab_type": "text"
      },
      "source": [
        "**Confusion Matrix**"
      ]
    },
    {
      "cell_type": "code",
      "metadata": {
        "id": "37aCpIOvoa8q",
        "colab_type": "code",
        "colab": {
          "base_uri": "https://localhost:8080/",
          "height": 221
        },
        "outputId": "d8a5e0f8-5fed-4e56-d33f-a59642e264f9"
      },
      "source": [
        "#confusion matrix\n",
        "# precision(positive predictive value)\n",
        "# Precision= TP/(TP+FP)\n",
        "#recall kown as sensitivity or true positive rate \n",
        "#recall = TP/(TP+FN)\n",
        "# f1-score, it is combination of precision and recall\n",
        "# f1-score= 2 * ((precision *recall)/(precision+recall))\n",
        "\n",
        "from sklearn.metrics import classification_report,confusion_matrix\n",
        "\n",
        "print(confusion_matrix(y_test,y_pred))\n",
        "print(classification_report(y_test,y_pred))\n",
        "print(accuracy_score(y_test,y_pred))"
      ],
      "execution_count": 160,
      "outputs": [
        {
          "output_type": "stream",
          "text": [
            "[[27  3]\n",
            " [ 2 29]]\n",
            "              precision    recall  f1-score   support\n",
            "\n",
            "           0       0.93      0.90      0.92        30\n",
            "           1       0.91      0.94      0.92        31\n",
            "\n",
            "    accuracy                           0.92        61\n",
            "   macro avg       0.92      0.92      0.92        61\n",
            "weighted avg       0.92      0.92      0.92        61\n",
            "\n",
            "0.9180327868852459\n"
          ],
          "name": "stdout"
        }
      ]
    },
    {
      "cell_type": "markdown",
      "metadata": {
        "id": "qO9UsEln-DpJ",
        "colab_type": "text"
      },
      "source": [
        "A confusion matrix is a table that is often used to describe the performance of a classification model (or “classifier”) on a set of test data for which the true values are known. \n",
        "\n",
        "\n",
        "\n",
        "\n",
        "1.   You need a test dataset or a validation dataset with expected outcome values.\n",
        "2.   Make a prediction for each row in your test dataset.\n",
        "From the expected outcomes and predictions count:\n",
        "\n",
        "*   The number of correct predictions for each class.\n",
        "*   The number of incorrect predictions for each class, organized by the class that was predicted.\n",
        "\n",
        "\n",
        "It also allows the visualization of the performance of an algorithm.\n",
        "\n"
      ]
    },
    {
      "cell_type": "markdown",
      "metadata": {
        "id": "sUc2d8dPtHZc",
        "colab_type": "text"
      },
      "source": [
        "the accuracy of Logistic regtression is 92%, till now in tow model ANN and ogistic Regression, we got ANN best but we can also use Regularisation to introduce the penality: lesso (l1) and ridge(l2) to increase the accuracy of Logistic regression"
      ]
    },
    {
      "cell_type": "markdown",
      "metadata": {
        "id": "cS1yvEUTrtzN",
        "colab_type": "text"
      },
      "source": [
        "# **Now, we apply 5 algorithms and predict their output.**"
      ]
    },
    {
      "cell_type": "code",
      "metadata": {
        "id": "DSjrUe46xC5D",
        "colab_type": "code",
        "outputId": "6e0d9348-8395-4524-aacc-ad6493c9b4fd",
        "colab": {
          "base_uri": "https://localhost:8080/",
          "height": 102
        }
      },
      "source": [
        "#importimg all the algorithens library from sklearn\n",
        "\n",
        "from sklearn.tree import DecisionTreeClassifier\n",
        "from sklearn.ensemble import RandomForestClassifier\n",
        "from sklearn.neighbors import KNeighborsClassifier\n",
        "from sklearn.svm import SVC\n",
        "from sklearn.naive_bayes import GaussianNB\n",
        "from sklearn.metrics import accuracy_score\n",
        "from sklearn.model_selection import StratifiedKFold,cross_val_score,cross_val_predict\n",
        "\n",
        "classifiers=[['Decision Tree Classification :',DecisionTreeClassifier()],\n",
        "       ['Random Forest Classification :',RandomForestClassifier()],\n",
        "       ['K-Neighbors Classification :',KNeighborsClassifier()],\n",
        "       ['Support Vector Classification :',SVC()],\n",
        "       ['Gaussian Naive Bayes :',GaussianNB()]]\n",
        "cla_pred=[]\n",
        "acc=[]\n",
        "for name,model in classifiers:\n",
        "    model=model\n",
        "    model.fit(X_train,Y_train) # we are fitting the data into the model with training dataset\n",
        "    predictions = model.predict(X_test) # now we are predicting with test datset\n",
        "    cla_pred.append(accuracy_score(Y_test,predictions)) # finding accuracy\n",
        "    print(name,accuracy_score(Y_test,predictions))\n",
        "    acc.append(accuracy_score(Y_test,predictions))"
      ],
      "execution_count": 94,
      "outputs": [
        {
          "output_type": "stream",
          "text": [
            "Decision Tree Classification : 0.7540983606557377\n",
            "Random Forest Classification : 0.8688524590163934\n",
            "K-Neighbors Classification : 0.639344262295082\n",
            "Support Vector Classification : 0.6885245901639344\n",
            "Gaussian Naive Bayes : 0.8524590163934426\n"
          ],
          "name": "stdout"
        }
      ]
    },
    {
      "cell_type": "markdown",
      "metadata": {
        "id": "1Q0urx_J4xIY",
        "colab_type": "text"
      },
      "source": [
        "**Compare all the algorithems with their accuracies in bar plot**"
      ]
    },
    {
      "cell_type": "code",
      "metadata": {
        "id": "-Jy57xvW10JN",
        "colab_type": "code",
        "colab": {}
      },
      "source": [
        "accc={}\n",
        "\n",
        "accc['A-N Network']=comp_accuracies[0]\n",
        "accc['Logistic Regression']=comp_accuracies[1]*100\n",
        "accc['Deceason Tree']=acc[0]*100\n",
        "accc['Random Forest']=acc[1]*100\n",
        "accc['K-Neighbours']=acc[2]*100\n",
        "accc['Support Vector']=acc[3]*100\n",
        "accc['Gausian Nave Bayes']=acc[4]*100"
      ],
      "execution_count": 0,
      "outputs": []
    },
    {
      "cell_type": "code",
      "metadata": {
        "id": "OLAh_n5xyRHS",
        "colab_type": "code",
        "outputId": "6d1fc204-97ae-45b6-edfb-f9b718ea15ab",
        "colab": {
          "base_uri": "https://localhost:8080/",
          "height": 334
        }
      },
      "source": [
        "colors = [\"purple\", \"green\", \"orange\", \"magenta\",\"#CFC60E\",\"#0FBBAE\",\"red\"]\n",
        "\n",
        "sns.set_style(\"whitegrid\")\n",
        "plt.figure(figsize=(16,5))\n",
        "plt.yticks(np.arange(0,100,10))\n",
        "plt.ylabel(\"Accuracy %\")\n",
        "plt.xlabel(\"Algorithms\")\n",
        "sns.barplot(x=list(accc.keys()), y=list(accc.values()), palette=colors)\n",
        "plt.show()"
      ],
      "execution_count": 184,
      "outputs": [
        {
          "output_type": "display_data",
          "data": {
            "image/png": "[encoded data removed]",
            "text/plain": [
              "<Figure size 1152x360 with 1 Axes>"
            ]
          },
          "metadata": {
            "tags": []
          }
        }
      ]
    },
    {
      "cell_type": "markdown",
      "metadata": {
        "id": "ZemI_wSE448D",
        "colab_type": "text"
      },
      "source": [
        "So, you can we achieve 91% accuracy in Logistic Regression which is best amoung all other.\n",
        "\n",
        "**Conclusion**\n",
        "\n",
        "This dataset is very small but helped us to create a simple model and machine learning techniques. \n",
        "\n",
        "ML technologies have become increasingly important and has a greater role in medical devices and Pharma Industry."
      ]
    },
    {
      "cell_type": "markdown",
      "metadata": {
        "id": "MsWXP56a5x-q",
        "colab_type": "text"
      },
      "source": [
        "## **ThankYou!!!!!**"
      ]
    }
  ]
}